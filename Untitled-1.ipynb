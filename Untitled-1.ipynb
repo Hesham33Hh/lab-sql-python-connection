{
 "cells": [
  {
   "cell_type": "code",
   "execution_count": 1,
   "metadata": {},
   "outputs": [
    {
     "name": "stdout",
     "output_type": "stream",
     "text": [
      "Requirement already satisfied: sqlalchemy in /opt/anaconda3/lib/python3.12/site-packages (2.0.34)\n",
      "Collecting pymysql\n",
      "  Downloading PyMySQL-1.1.1-py3-none-any.whl.metadata (4.4 kB)\n",
      "Requirement already satisfied: pandas in /opt/anaconda3/lib/python3.12/site-packages (2.2.2)\n",
      "Requirement already satisfied: typing-extensions>=4.6.0 in /opt/anaconda3/lib/python3.12/site-packages (from sqlalchemy) (4.11.0)\n",
      "Requirement already satisfied: greenlet!=0.4.17 in /opt/anaconda3/lib/python3.12/site-packages (from sqlalchemy) (3.0.1)\n",
      "Requirement already satisfied: numpy>=1.26.0 in /opt/anaconda3/lib/python3.12/site-packages (from pandas) (1.26.4)\n",
      "Requirement already satisfied: python-dateutil>=2.8.2 in /opt/anaconda3/lib/python3.12/site-packages (from pandas) (2.9.0.post0)\n",
      "Requirement already satisfied: pytz>=2020.1 in /opt/anaconda3/lib/python3.12/site-packages (from pandas) (2024.1)\n",
      "Requirement already satisfied: tzdata>=2022.7 in /opt/anaconda3/lib/python3.12/site-packages (from pandas) (2023.3)\n",
      "Requirement already satisfied: six>=1.5 in /opt/anaconda3/lib/python3.12/site-packages (from python-dateutil>=2.8.2->pandas) (1.16.0)\n",
      "Downloading PyMySQL-1.1.1-py3-none-any.whl (44 kB)\n",
      "Installing collected packages: pymysql\n",
      "Successfully installed pymysql-1.1.1\n",
      "Note: you may need to restart the kernel to use updated packages.\n"
     ]
    }
   ],
   "source": [
    "pip install sqlalchemy pymysql pandas\n"
   ]
  },
  {
   "cell_type": "code",
   "execution_count": null,
   "metadata": {},
   "outputs": [
    {
     "name": "stdout",
     "output_type": "stream",
     "text": [
      "✅ Conexión exitosa a la base de datos Sakila.\n"
     ]
    }
   ],
   "source": [
    "from sqlalchemy import create_engine\n",
    "\n",
    "# Configuración de conexión\n",
    "usuario = 'root'         # Cambia si tu usuario es otro\n",
    "contraseña = '0124485640'     # Escribe tu contraseña si tienes una\n",
    "host = 'localhost'\n",
    "base_de_datos = 'sakila'\n",
    "\n",
    "# Crear el engine de conexión\n",
    "engine = create_engine(f\"mysql+pymysql://{usuario}:{contraseña}@{host}/{base_de_datos}\")\n",
    "\n",
    "# Probar conexión\n",
    "try:\n",
    "    connection = engine.connect()\n",
    "    print(\"✅ Conexión exitosa a la base de datos Sakila.\")\n",
    "    connection.close()\n",
    "except Exception as e:\n",
    "    print(\"❌ Error de conexión:\", e)\n"
   ]
  },
  {
   "cell_type": "code",
   "execution_count": 4,
   "metadata": {},
   "outputs": [],
   "source": [
    "import pandas as pd\n",
    "\n",
    "def rentals_month(engine, month, year):\n",
    "    query = f\"\"\"\n",
    "        SELECT *\n",
    "        FROM rental\n",
    "        WHERE MONTH(rental_date) = {month}\n",
    "          AND YEAR(rental_date) = {year}\n",
    "    \"\"\"\n",
    "    df = pd.read_sql(query, engine)\n",
    "    return df\n"
   ]
  },
  {
   "cell_type": "code",
   "execution_count": 5,
   "metadata": {},
   "outputs": [
    {
     "name": "stdout",
     "output_type": "stream",
     "text": [
      "   rental_id         rental_date  inventory_id  customer_id  \\\n",
      "0          1 2005-05-24 22:53:30           367          130   \n",
      "1          2 2005-05-24 22:54:33          1525          459   \n",
      "2          3 2005-05-24 23:03:39          1711          408   \n",
      "3          4 2005-05-24 23:04:41          2452          333   \n",
      "4          5 2005-05-24 23:05:21          2079          222   \n",
      "\n",
      "          return_date  staff_id         last_update  \n",
      "0 2005-05-26 22:04:30         1 2006-02-15 21:30:53  \n",
      "1 2005-05-28 19:40:33         1 2006-02-15 21:30:53  \n",
      "2 2005-06-01 22:12:39         1 2006-02-15 21:30:53  \n",
      "3 2005-06-03 01:43:41         2 2006-02-15 21:30:53  \n",
      "4 2005-06-02 04:33:21         1 2006-02-15 21:30:53  \n"
     ]
    }
   ],
   "source": [
    "# Probar la función con mayo de 2005\n",
    "df_mayo = rentals_month(engine, 5, 2005)\n",
    "print(df_mayo.head())\n"
   ]
  },
  {
   "cell_type": "code",
   "execution_count": 6,
   "metadata": {},
   "outputs": [],
   "source": [
    "def rental_count_month(df, month, year):\n",
    "    column_name = f\"rentals_{str(month).zfill(2)}_{year}\"\n",
    "    rental_counts = df.groupby(\"customer_id\").size().reset_index(name=column_name)\n",
    "    return rental_counts\n"
   ]
  },
  {
   "cell_type": "code",
   "execution_count": 7,
   "metadata": {},
   "outputs": [
    {
     "name": "stdout",
     "output_type": "stream",
     "text": [
      "   customer_id  rentals_05_2005\n",
      "0            1                2\n",
      "1            2                1\n",
      "2            3                2\n",
      "3            5                3\n",
      "4            6                3\n"
     ]
    }
   ],
   "source": [
    "# Contar alquileres por cliente en mayo de 2005\n",
    "rental_counts_mayo = rental_count_month(df_mayo, 5, 2005)\n",
    "print(rental_counts_mayo.head())\n"
   ]
  },
  {
   "cell_type": "code",
   "execution_count": 8,
   "metadata": {},
   "outputs": [],
   "source": [
    "def compare_rentals(df1, df2):\n",
    "    merged = pd.merge(df1, df2, on=\"customer_id\", how=\"outer\").fillna(0)\n",
    "    \n",
    "    # Tomamos los nombres de las columnas de alquileres\n",
    "    col1 = merged.columns[1]\n",
    "    col2 = merged.columns[2]\n",
    "    \n",
    "    # Crear columna diferencia (col2 - col1)\n",
    "    merged[\"diferencia\"] = merged[col2] - merged[col1]\n",
    "    \n",
    "    return merged\n"
   ]
  },
  {
   "cell_type": "code",
   "execution_count": 9,
   "metadata": {},
   "outputs": [
    {
     "name": "stdout",
     "output_type": "stream",
     "text": [
      "   customer_id  rentals_05_2005  rentals_06_2005  diferencia\n",
      "0            1              2.0              7.0         5.0\n",
      "1            2              1.0              1.0         0.0\n",
      "2            3              2.0              4.0         2.0\n",
      "3            4              0.0              6.0         6.0\n",
      "4            5              3.0              5.0         2.0\n"
     ]
    }
   ],
   "source": [
    "# Obtener junio de 2005\n",
    "df_junio = rentals_month(engine, 6, 2005)\n",
    "rental_counts_junio = rental_count_month(df_junio, 6, 2005)\n",
    "\n",
    "# Comparar mayo vs junio\n",
    "comparacion = compare_rentals(rental_counts_mayo, rental_counts_junio)\n",
    "print(comparacion.head())\n"
   ]
  },
  {
   "cell_type": "code",
   "execution_count": 10,
   "metadata": {},
   "outputs": [],
   "source": [
    "comparacion.to_csv(\"comparacion_mayo_junio_2005.csv\", index=False)\n"
   ]
  },
  {
   "cell_type": "code",
   "execution_count": null,
   "metadata": {},
   "outputs": [],
   "source": []
  }
 ],
 "metadata": {
  "kernelspec": {
   "display_name": "base",
   "language": "python",
   "name": "python3"
  },
  "language_info": {
   "codemirror_mode": {
    "name": "ipython",
    "version": 3
   },
   "file_extension": ".py",
   "mimetype": "text/x-python",
   "name": "python",
   "nbconvert_exporter": "python",
   "pygments_lexer": "ipython3",
   "version": "3.12.7"
  }
 },
 "nbformat": 4,
 "nbformat_minor": 2
}
